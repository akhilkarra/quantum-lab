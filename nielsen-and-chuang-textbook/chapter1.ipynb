{
 "cells": [
  {
   "cell_type": "markdown",
   "source": [
    "# Introduction\n",
    "\n",
    "This is a notebook containing my notes and worked solutions to observations and problems in Chapter 1 of Nielsen and Chuang's \"Quantum Computation and Quantum Information\" textbook using Cirq and JetBrains DataSpell."
   ],
   "metadata": {
    "collapsed": false
   }
  },
  {
   "cell_type": "code",
   "execution_count": 2,
   "metadata": {
    "collapsed": true,
    "pycharm": {
     "name": "#%%\n"
    }
   },
   "outputs": [
    {
     "name": "stdout",
     "output_type": "stream",
     "text": [
      "Installing Cirq...\n",
      "Installed Cirq.\n"
     ]
    }
   ],
   "source": [
    "# Make sure Cirq is installed\n",
    "try:\n",
    "    import cirq\n",
    "except ModuleNotFoundError or ImportError:\n",
    "    print(\"Installing Cirq...\")\n",
    "    !pip install --quiet --upgrade pip\n",
    "    !pip install --quiet cirq\n",
    "    print(\"Installed Cirq.\")"
   ]
  },
  {
   "cell_type": "markdown",
   "source": [
    "# Notes\n",
    "\n",
    "[Insert notes here]"
   ],
   "metadata": {
    "collapsed": false,
    "pycharm": {
     "name": "#%% md\n"
    }
   }
  },
  {
   "cell_type": "markdown",
   "source": [
    "# Observations\n",
    "\n",
    "[Note observations here]"
   ],
   "metadata": {
    "collapsed": false
   }
  },
  {
   "cell_type": "code",
   "execution_count": null,
   "outputs": [],
   "source": [
    "# Test observations here"
   ],
   "metadata": {
    "collapsed": false,
    "pycharm": {
     "name": "#%%\n"
    }
   }
  },
  {
   "cell_type": "markdown",
   "source": [
    "# Problems\n",
    "\n",
    "Write solutions to problems here."
   ],
   "metadata": {
    "collapsed": false,
    "pycharm": {
     "name": "#%% md\n"
    }
   }
  }
 ],
 "metadata": {
  "kernelspec": {
   "display_name": "Python 3",
   "language": "python",
   "name": "python3"
  },
  "language_info": {
   "codemirror_mode": {
    "name": "ipython",
    "version": 2
   },
   "file_extension": ".py",
   "mimetype": "text/x-python",
   "name": "python",
   "nbconvert_exporter": "python",
   "pygments_lexer": "ipython2",
   "version": "2.7.6"
  }
 },
 "nbformat": 4,
 "nbformat_minor": 0
}