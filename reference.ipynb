{
 "cells": [
  {
   "cell_type": "markdown",
   "source": [
    "# Introduction\n",
    "\n",
    "This notebook is a reference for essential circuit symbols, commands, vocabulary, etc. found in the Nelson and Chuang textbook."
   ],
   "metadata": {
    "collapsed": false
   }
  },
  {
   "cell_type": "code",
   "execution_count": 2,
   "outputs": [
    {
     "name": "stdout",
     "output_type": "stream",
     "text": [
      "Installing Cirq...\n",
      "Installed Cirq.\n"
     ]
    }
   ],
   "source": [
    "# Make sure Cirq is installed\n",
    "try:\n",
    "    import cirq\n",
    "except ModuleNotFoundError or ImportError:\n",
    "    print(\"Installing Cirq...\")\n",
    "    !pip install --quiet --upgrade pip\n",
    "    !pip install --quiet cirq\n",
    "    print(\"Installed Cirq.\")"
   ],
   "metadata": {
    "collapsed": false,
    "pycharm": {
     "name": "#%%\n"
    }
   }
  },
  {
   "cell_type": "markdown",
   "source": [
    "# Circuit Symbols\n",
    "\n",
    "<div><img src=\"images/circuit-symbols-1.png\" width=\"400\" class=\"center\"></div>\n",
    "<div><img src=\"images/circuit-symbols-2.png\" width=\"800\" class=\"center\"></div>"
   ],
   "metadata": {
    "collapsed": false
   }
  },
  {
   "cell_type": "markdown",
   "source": [
    "# Commands\n",
    "The code cell below contains essential commands required to create quantum circuits in Cirq."
   ],
   "metadata": {
    "collapsed": false
   }
  },
  {
   "cell_type": "code",
   "execution_count": 3,
   "outputs": [],
   "source": [
    "# INSERT ESSENTIAL COMMANDS HERE"
   ],
   "metadata": {
    "collapsed": false,
    "pycharm": {
     "name": "#%%\n"
    }
   }
  },
  {
   "cell_type": "markdown",
   "source": [
    "# Glossary\n",
    "\n",
    "[INSERT VOCABULARY HERE]"
   ],
   "metadata": {
    "collapsed": false,
    "pycharm": {
     "name": "#%% md\n"
    }
   }
  }
 ],
 "metadata": {
  "kernelspec": {
   "display_name": "Python 3",
   "language": "python",
   "name": "python3"
  },
  "language_info": {
   "codemirror_mode": {
    "name": "ipython",
    "version": 2
   },
   "file_extension": ".py",
   "mimetype": "text/x-python",
   "name": "python",
   "nbconvert_exporter": "python",
   "pygments_lexer": "ipython2",
   "version": "2.7.6"
  }
 },
 "nbformat": 4,
 "nbformat_minor": 0
}