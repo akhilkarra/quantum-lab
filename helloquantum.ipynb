{
  "nbformat": 4,
  "nbformat_minor": 0,
  "metadata": {
    "colab": {
      "name": "helloquantum.ipynb",
      "provenance": [],
      "authorship_tag": "ABX9TyNAFVioki1P90TJsDB/Aho4",
      "include_colab_link": true
    },
    "kernelspec": {
      "name": "python3",
      "display_name": "Python 3"
    },
    "language_info": {
      "name": "python"
    },
    "accelerator": "GPU"
  },
  "cells": [
    {
      "cell_type": "markdown",
      "metadata": {
        "id": "view-in-github",
        "colab_type": "text"
      },
      "source": [
        "<a href=\"https://colab.research.google.com/github/akhilkarra/quantum-lab/blob/main/helloquantum.ipynb\" target=\"_parent\"><img src=\"https://colab.research.google.com/assets/colab-badge.svg\" alt=\"Open In Colab\"/></a>"
      ]
    },
    {
      "cell_type": "markdown",
      "metadata": {
        "id": "zobspIs-kXiv"
      },
      "source": [
        "# Introduction\n",
        "\n",
        "This is my first Jupyter notebook using the Cirq framework by Google Quantum AI as written in Google Colaboratory."
      ]
    },
    {
      "cell_type": "code",
      "metadata": {
        "id": "rE9-BHdNj5NL"
      },
      "source": [
        "try:\n",
        "    import cirq  # Try to import Cirq\n",
        "except ImportError:  # If Cirq is not installed\n",
        "    print(\"Installing Cirq...\")  # Let the user know that it is installing Cirq\n",
        "    !pip install --upgrade --quiet pip  # Keep pip up to date\n",
        "    !pip install --quiet cirq  # Install Cirq\n",
        "    print(\"Installed Cirq.\")  # Let user know that Cirq is now installed\n",
        "    import cirq  # Import Cirq"
      ],
      "execution_count": 3,
      "outputs": []
    },
    {
      "cell_type": "markdown",
      "metadata": {
        "id": "dSGxPKtskjGp"
      },
      "source": [
        "# Sandbox\n",
        "\n",
        "The code below is random snippets to test features in Cirq and Google Colaboratory."
      ]
    },
    {
      "cell_type": "code",
      "metadata": {
        "colab": {
          "base_uri": "https://localhost:8080/"
        },
        "id": "MrUgMQoGw6jH",
        "outputId": "cc8ea5b5-3e4e-4741-d631-5f2e50f7d47b"
      },
      "source": [
        "# Google's Simple Example\n",
        "\n",
        "# Pick a qubit.\n",
        "qubit = cirq.GridQubit(0, 0)\n",
        "\n",
        "# Create a circuit\n",
        "circuit = cirq.Circuit(\n",
        "    cirq.X(qubit)**0.5,  # Square root of NOT.\n",
        "    cirq.measure(qubit, key='m')  # Measurement.\n",
        ")\n",
        "print(\"Circuit:\")\n",
        "print(circuit)\n",
        "\n",
        "# Simulate the circuit several times.\n",
        "simulator = cirq.Simulator()\n",
        "result = simulator.run(circuit, repetitions=20)\n",
        "print(\"Results:\")\n",
        "print(result)"
      ],
      "execution_count": 4,
      "outputs": [
        {
          "output_type": "stream",
          "name": "stdout",
          "text": [
            "Circuit:\n",
            "(0, 0): ───X^0.5───M('m')───\n",
            "Results:\n",
            "m=11000001110111110001\n"
          ]
        }
      ]
    }
  ]
}