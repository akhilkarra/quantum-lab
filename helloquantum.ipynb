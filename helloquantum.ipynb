{
  "nbformat": 4,
  "nbformat_minor": 0,
  "metadata": {
    "colab": {
      "name": "helloquantum.ipynb",
      "provenance": [],
      "authorship_tag": "ABX9TyNL0YeeBpwINdxAxaavqV7D",
      "include_colab_link": true
    },
    "kernelspec": {
      "name": "python3",
      "display_name": "Python 3"
    },
    "language_info": {
      "name": "python"
    }
  },
  "cells": [
    {
      "cell_type": "markdown",
      "metadata": {
        "id": "view-in-github",
        "colab_type": "text"
      },
      "source": [
        "<a href=\"https://colab.research.google.com/github/akhilkarra/quantum-lab/blob/main/helloquantum.ipynb\" target=\"_parent\"><img src=\"https://colab.research.google.com/assets/colab-badge.svg\" alt=\"Open In Colab\"/></a>"
      ]
    },
    {
      "cell_type": "markdown",
      "metadata": {
        "id": "zobspIs-kXiv"
      },
      "source": [
        "# Introduction\n",
        "\n",
        "This is my first Jupyter notebook using the Cirq framework by Google Quantum AI as written in Google Colaboratory."
      ]
    },
    {
      "cell_type": "code",
      "metadata": {
        "id": "rE9-BHdNj5NL"
      },
      "source": [
        "try:  # Try to import Cirq\n",
        "    import cirq\n",
        "except ImportError:  # If Cirq is not installed\n",
        "    print(\"Installing Cirq...\")  # Let the user know that it is installing Cirq\n",
        "    !pip install --upgrade --quiet pip  # Keep pip up to date\n",
        "    !pip install --quiet cirq  # Install Cirq\n",
        "    print(\"Installed Cirq.\")  # Let user know that Cirq is now installed"
      ],
      "execution_count": 4,
      "outputs": []
    },
    {
      "cell_type": "markdown",
      "metadata": {
        "id": "dSGxPKtskjGp"
      },
      "source": [
        "# Sandbox\n",
        "\n",
        "The code below is random snippets to test features in Cirq and Google Colaboratory."
      ]
    }
  ]
}